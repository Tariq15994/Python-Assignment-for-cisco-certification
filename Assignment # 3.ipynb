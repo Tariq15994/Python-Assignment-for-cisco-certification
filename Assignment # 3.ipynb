{
 "cells": [
  {
   "cell_type": "markdown",
   "metadata": {},
   "source": [
    "# Assignment # 3"
   ]
  },
  {
   "cell_type": "markdown",
   "metadata": {},
   "source": [
    "# 1. Make a calculator using Python with addition , subtraction , multiplication ,division and power."
   ]
  },
  {
   "cell_type": "code",
   "execution_count": null,
   "metadata": {},
   "outputs": [],
   "source": [
    "opr=input(\"opr\")\n",
    "num1=float(input(\"enter \"))\n",
    "num2=float(input(\"second num\"))\n",
    "if opr == '+':\n",
    "   print(num1,\"+\",num2,\"=\", num1+num2)\n",
    "elif opr == '-':\n",
    "   print(num1,\"-\",num2,\"=\",num1num2)\n",
    "elif opr == '*':\n",
    "   print(num1,\"*\",num2,\"=\", num1*num2)\n",
    "elif opr == '/':\n",
    "   print(num1,\"/\",num2,\"=\", num1/num2)\n",
    "else:\n",
    "   print(\"Invalid input\")\n"
   ]
  },
  {
   "cell_type": "markdown",
   "metadata": {},
   "source": [
    "# 2. Write a program to check if there is any numeric value in list using for loop"
   ]
  },
  {
   "cell_type": "code",
   "execution_count": 23,
   "metadata": {},
   "outputs": [
    {
     "name": "stdout",
     "output_type": "stream",
     "text": [
      "This is numeric value 1\n",
      "This is numeric value 62\n",
      "This is numeric value 5\n",
      "This is numeric value 6\n",
      "This is numeric value 6\n",
      "This is numeric value 7\n"
     ]
    }
   ],
   "source": [
    "\n",
    "list=[1,62,5,\"ssss\",6,6,7,\"s\"]\n",
    "for numbers in list:\n",
    "    if type(numbers)==int:\n",
    "        print(\"This is numeric value\",numbers)\n",
    "    \n",
    "    \"\"\"    List  = [\"Hello\", \"World\", 234, \"Python\", \"Programming\",False,30,0.331]\n",
    "\n",
    "for i in List:\n",
    "    if type(i) == int:\n",
    "        print(\"Found numeric value: \",i)\"\"\""
   ]
  },
  {
   "cell_type": "code",
   "execution_count": 24,
   "metadata": {},
   "outputs": [
    {
     "name": "stdout",
     "output_type": "stream",
     "text": [
      "Before Update\n",
      "Info['Name']:  TARIQ\n",
      "Info['Age']:  18\n",
      "Info['Department']:  BSCS\n",
      "After Update\n",
      "Info['Name']:  TARIQ\n",
      "Info['Age']:  30\n",
      "Info['School']:  IQ Malir Campus\n"
     ]
    }
   ],
   "source": [
    "Info = {'Name': 'TARIQ', 'Age': 18, 'Department': 'BSCS'}\n",
    "\n",
    "print('''Before Update''')\n",
    "print (\"Info['Name']: \", Info['Name'])\n",
    "print (\"Info['Age']: \", Info['Age'])\n",
    "print (\"Info['Department']: \", Info['Department'])\n",
    "\n",
    "print('''After Update''')\n",
    "\n",
    "Info= {'Name': 'TARIQ', 'Age': 18, 'Department': 'BSCS'}\n",
    "Info['Age'] = 30; # update existing entry\n",
    "Info['School'] = \"IQ Malir Campus\" # Add new entry\n",
    "\n",
    "print (\"Info['Name']: \", Info['Name'])\n",
    "print (\"Info['Age']: \", Info['Age'])\n",
    "print (\"Info['School']: \", Info['School'])"
   ]
  },
  {
   "cell_type": "markdown",
   "metadata": {},
   "source": [
    "# Write a program to identify duplicate values from list"
   ]
  },
  {
   "cell_type": "code",
   "execution_count": null,
   "metadata": {},
   "outputs": [],
   "source": []
  },
  {
   "cell_type": "code",
   "execution_count": 35,
   "metadata": {},
   "outputs": [
    {
     "name": "stdout",
     "output_type": "stream",
     "text": [
      "Sum = 123.4\n"
     ]
    }
   ],
   "source": [
    "#4. Write a Python program to sum all the numeric items in a dictionary\n",
    "result = 0\n",
    "dic = {1: 20 ,\n",
    "           2: \"Tariq\", \n",
    "           3: 3.4, \n",
    "           4:\"No numerical\",\n",
    "           5: 100}\n",
    "\n",
    "for value in dic.values():\n",
    "    if type(value) == int or type(value) == float:\n",
    "        result = result + value        \n",
    "        \n",
    "print(f\"Sum = {result}\")"
   ]
  },
  {
   "cell_type": "code",
   "execution_count": 37,
   "metadata": {},
   "outputs": [
    {
     "name": "stdout",
     "output_type": "stream",
     "text": [
      "Duplicated Tariq\n",
      "Duplicated Tariq\n",
      "Duplicated 1\n",
      "Duplicated 1\n",
      "Duplicated 0\n",
      "Duplicated 0\n"
     ]
    }
   ],
   "source": [
    "#5. Write a program to identify duplicate values from list.\n",
    "\n",
    "the_list = [\"Tariq\", \"Tariq\", 1, 1, 0, 0, 2, 3, 4, 5, 6]\n",
    "for value in the_list:\n",
    "    if  the_list.count(value) > 1:\n",
    "        print(f\"Duplicated {value}\")"
   ]
  },
  {
   "cell_type": "code",
   "execution_count": 38,
   "metadata": {},
   "outputs": [
    {
     "name": "stdout",
     "output_type": "stream",
     "text": [
      "3 Already exists\n"
     ]
    }
   ],
   "source": [
    "#6. Write a python script to check if a given key already exists in a dictionary.\n",
    "\n",
    "dic = { 1: \"key1\",\n",
    "            2: \"key2\",\n",
    "            3: \"key3\"}\n",
    "\n",
    "given_key = 3\n",
    "\n",
    "for key in dic.keys():\n",
    "    if key == given_key:\n",
    "        print(f\"{given_key} Already exists\")"
   ]
  },
  {
   "cell_type": "code",
   "execution_count": null,
   "metadata": {},
   "outputs": [],
   "source": []
  }
 ],
 "metadata": {
  "kernelspec": {
   "display_name": "Python 3",
   "language": "python",
   "name": "python3"
  },
  "language_info": {
   "codemirror_mode": {
    "name": "ipython",
    "version": 3
   },
   "file_extension": ".py",
   "mimetype": "text/x-python",
   "name": "python",
   "nbconvert_exporter": "python",
   "pygments_lexer": "ipython3",
   "version": "3.7.4"
  }
 },
 "nbformat": 4,
 "nbformat_minor": 2
}
