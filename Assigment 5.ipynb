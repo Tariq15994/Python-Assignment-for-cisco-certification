{
 "cells": [
  {
   "cell_type": "markdown",
   "metadata": {},
   "source": [
    "# Assigment 5"
   ]
  },
  {
   "cell_type": "markdown",
   "metadata": {},
   "source": [
    "# Question 1 \n",
    "# Write a Python function to calculate the factorial of a number (a non-negative integer). The function accepts the number as an argument."
   ]
  },
  {
   "cell_type": "code",
   "execution_count": 2,
   "metadata": {},
   "outputs": [
    {
     "name": "stdout",
     "output_type": "stream",
     "text": [
      "Please Enter a Postive number to find its fictorial4\n",
      "Fictorial of  4 is 24\n"
     ]
    }
   ],
   "source": [
    "\n",
    "def factorial(number):\n",
    "    if number <0:\n",
    "        print(\"Enter a Postive number\")\n",
    "    elif number==0 or number==1:\n",
    "        return 1\n",
    "    else:\n",
    "        return number * factorial(number-1)\n",
    "    \n",
    "number=int(input(\"Please Enter a Postive number to find its fictorial\"))\n",
    "fact=factorial(number)\n",
    "print(\"Fictorial of \",number, \"is\",fact)"
   ]
  },
  {
   "cell_type": "markdown",
   "metadata": {},
   "source": [
    "# Question 2\n",
    "# Write a Python function that accepts a string and calculate the number of upper case letters and lower case letters."
   ]
  },
  {
   "cell_type": "code",
   "execution_count": 4,
   "metadata": {},
   "outputs": [
    {
     "name": "stdout",
     "output_type": "stream",
     "text": [
      "Enter a String to check the strength of UPPER an lower Case letter Tariq\n",
      "Your String has 4 Lower Case Character\n",
      "Your String has 1 UPPER Case Character\n",
      "Your String has 0 Spaces\n"
     ]
    }
   ],
   "source": [
    "\n",
    "def str_func(string):\n",
    "    uchar=0\n",
    "    lchar=0\n",
    "    space=0\n",
    "    for char in word:\n",
    "        if (char.isupper()):\n",
    "        #if char>='A' and char<='Z':\n",
    "            uchar+=1\n",
    "        elif (char.islower()):\n",
    "        #elif char>='a' and char<='z':\n",
    "            lchar+=1\n",
    "        else:\n",
    "            space+=1\n",
    "    return (\"Your String has\"+\" \"+str(lchar)+\" Lower Case Character\"+\"\\n\"+\"Your String has \"+str(uchar)+\" UPPER Case Character\"+\"\\n\"+\"Your String has \"+str(space)+\" Spaces\")\n",
    "word=input(\"Enter a String to check the strength of UPPER an lower Case letter \")\n",
    "strength=str_func(word)\n",
    "print(strength)\n"
   ]
  },
  {
   "cell_type": "markdown",
   "metadata": {},
   "source": [
    "# Question 3\n",
    "# Write a Python function to print the even numbers from a given list."
   ]
  },
  {
   "cell_type": "code",
   "execution_count": 1,
   "metadata": {},
   "outputs": [
    {
     "name": "stdout",
     "output_type": "stream",
     "text": [
      "[2, 34, 88, 90]\n"
     ]
    }
   ],
   "source": [
    "# list1=[2,45,7,34,88,90,69]\n",
    "even=[]\n",
    "def even(list):\n",
    "    evenitem=[]\n",
    "    for item in list:\n",
    "        if item%2==0:\n",
    "            evenitem.append(item)\n",
    "    return evenitem \n",
    "list1=int(input(\"Enter a list of multiple numbers randomly\"))\n",
    "result=even(list1)\n",
    "print(result)\n"
   ]
  },
  {
   "cell_type": "markdown",
   "metadata": {},
   "source": [
    "# Question 4\n",
    "# Write a Python function that checks whether a passed string is palindrome or not.\n"
   ]
  },
  {
   "cell_type": "code",
   "execution_count": 6,
   "metadata": {},
   "outputs": [
    {
     "name": "stdout",
     "output_type": "stream",
     "text": [
      "Enter A string to Check that is Palindrome or not ata\n",
      "True\n"
     ]
    }
   ],
   "source": [
    "\n",
    "def reverse(s):\n",
    "    return s[::-1]\n",
    "def ispalindrome(s):\n",
    "     rev=reverse(s)\n",
    "     if rev==s:\n",
    "        return True\n",
    "     return False\n",
    "word=input(\"Enter A string to Check that is Palindrome or not \") \n",
    "check=ispalindrome(word)\n",
    "print(check)\n"
   ]
  },
  {
   "cell_type": "markdown",
   "metadata": {},
   "source": [
    "# Question 5\n",
    "# Write a Python function that takes a number as a parameter and check the number is prime or not."
   ]
  },
  {
   "cell_type": "code",
   "execution_count": 9,
   "metadata": {},
   "outputs": [
    {
     "name": "stdout",
     "output_type": "stream",
     "text": [
      "Enter a number to check its prime or not22\n",
      "This numer is not Prime\n"
     ]
    }
   ],
   "source": [
    "\n",
    "def prime(number):\n",
    "    counter=0\n",
    "    for i in range(1,number+1):\n",
    "        if number%i==0:\n",
    "            counter+=1\n",
    "    if counter==2:\n",
    "        return True\n",
    "    return False\n",
    "num=int(input(\"Enter a number to check its prime or not\"))\n",
    "ans=prime(num)\n",
    "if ans==1:\n",
    "    print(\"This number is Prime\")\n",
    "else:\n",
    "    print(\"This numer is not Prime\")"
   ]
  },
  {
   "cell_type": "markdown",
   "metadata": {},
   "source": [
    "# Question 6\n",
    "# Write a   function which accepts the multiple arguments of user shopping list and print all the items which user bought from market."
   ]
  },
  {
   "cell_type": "code",
   "execution_count": 3,
   "metadata": {},
   "outputs": [
    {
     "name": "stdout",
     "output_type": "stream",
     "text": [
      "Enter Your UserName Tariq\n",
      "Enter from where you have done your Shopping karachi\n",
      "Enter the item What you have Purchased or press q to Quit shirt\n",
      "Enter the item What you have Purchased or press q to Quit q\n",
      "Mr.Tariq have done his Shopping from karachi.He has purchased the following items\n",
      "\n",
      "['shirt', 'q']\n",
      "None\n"
     ]
    }
   ],
   "source": [
    "\n",
    "def shopping(name,city,*params):\n",
    "    print(\"Mr.\"+name+\" have done his Shopping from \"+city+\".He has purchased the following items\\n\")\n",
    "    for param in params:\n",
    "        print(param)\n",
    "user=input(\"Enter Your UserName \")\n",
    "city=input(\"Enter from where you have done your Shopping \") \n",
    "user_input=\"\"\n",
    "list1=[]\n",
    "while(user_input!=\"q\"):\n",
    "    user_input=input(\"Enter the item What you have Purchased or press q to Quit \")\n",
    "    list1.append(user_input)\n",
    "result=shopping(user,city,list1)\n",
    "print(result)"
   ]
  },
  {
   "cell_type": "code",
   "execution_count": null,
   "metadata": {},
   "outputs": [],
   "source": []
  },
  {
   "cell_type": "code",
   "execution_count": null,
   "metadata": {},
   "outputs": [],
   "source": []
  },
  {
   "cell_type": "code",
   "execution_count": null,
   "metadata": {},
   "outputs": [],
   "source": []
  }
 ],
 "metadata": {
  "kernelspec": {
   "display_name": "Python 3",
   "language": "python",
   "name": "python3"
  },
  "language_info": {
   "codemirror_mode": {
    "name": "ipython",
    "version": 3
   },
   "file_extension": ".py",
   "mimetype": "text/x-python",
   "name": "python",
   "nbconvert_exporter": "python",
   "pygments_lexer": "ipython3",
   "version": "3.7.4"
  }
 },
 "nbformat": 4,
 "nbformat_minor": 2
}
