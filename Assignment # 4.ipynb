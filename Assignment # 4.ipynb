{
 "cells": [
  {
   "cell_type": "markdown",
   "metadata": {},
   "source": [
    "# Question 1\n",
    "### Use a dictionary to store information about a person you know. Store their first name, last name, age,\n",
    "### and the city in which they live. You should have keys such as first_name, last_name, age, and city. Print\n",
    "### each piece of information stored in your dictionary. Add a new key value pair about qualification then\n",
    "### update the qualification value to high academic level then delete it."
   ]
  },
  {
   "cell_type": "code",
   "execution_count": 12,
   "metadata": {},
   "outputs": [],
   "source": [
    "dic={\"first_name\":\"Tariq\",\"last_name\":\"nawaz\",\"age\":\"18\",\"city\":\"Karachi\"}\n",
    "dic\n"
   ]
  },
  {
   "cell_type": "code",
   "execution_count": 13,
   "metadata": {},
   "outputs": [
    {
     "data": {
      "text/plain": [
       "{'first_name': 'Tariq',\n",
       " 'last_name': 'nawaz',\n",
       " 'age': '18',\n",
       " 'city': 'Karachi',\n",
       " 'qualification': 'Intermediate pass'}"
      ]
     },
     "execution_count": 13,
     "metadata": {},
     "output_type": "execute_result"
    }
   ],
   "source": [
    "dic[\"qualification\"]=\"Intermediate pass\"\n",
    "dic"
   ]
  },
  {
   "cell_type": "code",
   "execution_count": 26,
   "metadata": {},
   "outputs": [
    {
     "data": {
      "text/plain": [
       "{'first_name': 'Tariq',\n",
       " 'last_name': 'nawaz',\n",
       " 'age': '18',\n",
       " 'city': 'Karachi',\n",
       " 'qualification': 'high academic level'}"
      ]
     },
     "execution_count": 26,
     "metadata": {},
     "output_type": "execute_result"
    }
   ],
   "source": [
    "dic[\"qualification\"]=\"high academic level\"\n",
    "dic"
   ]
  },
  {
   "cell_type": "code",
   "execution_count": 28,
   "metadata": {},
   "outputs": [],
   "source": [
    "del(dic[\"qualification\"])"
   ]
  },
  {
   "cell_type": "code",
   "execution_count": 29,
   "metadata": {},
   "outputs": [
    {
     "data": {
      "text/plain": [
       "{'first_name': 'Tariq', 'last_name': 'nawaz', 'age': '18', 'city': 'Karachi'}"
      ]
     },
     "execution_count": 29,
     "metadata": {},
     "output_type": "execute_result"
    }
   ],
   "source": [
    "dic"
   ]
  },
  {
   "cell_type": "markdown",
   "metadata": {},
   "source": [
    "# Question 2\n",
    "### Make a dictionary called cities. Use the names of three cities as keys in your dictionary. Create a\n",
    "### dictionary of information about each city and include the country that the city is in, its approximate\n",
    "### population, and one fact about that city. The keys for each city’s dictionary should be something like\n",
    "### country, population, and fact. Print the name of each city and all of the information you have stored\n",
    "### about it."
   ]
  },
  {
   "cell_type": "code",
   "execution_count": 52,
   "metadata": {},
   "outputs": [],
   "source": [
    "cities={\"karachi\":{\"Karachi is the Country\":\"Pakistan\",\"Population\":\"6 millions\",\"fact\":\"ther is mehran university \"},\n",
    "        \"Hyderabad\": {\"Hyderabad is the Country\":\"Pakistan\",\"Population\":\"20 millions\",\"fact\":\"ther is mehran university\" } ,\n",
    "                \"Lahore\":{\"Lahore  is the Country\":\"Pakistan\",\"Population\":\"10 millions\",\"fact\":\"ther is mehran university\"}}"
   ]
  },
  {
   "cell_type": "code",
   "execution_count": 53,
   "metadata": {},
   "outputs": [
    {
     "name": "stdout",
     "output_type": "stream",
     "text": [
      "{'Karachi is the Country': 'Pakistan', 'Population': '6 millions', 'fact': 'ther is mehran university '}\n",
      "{'Hyderabad is the Country': 'Pakistan', 'Population': '20 millions', 'fact': 'ther is mehran university'}\n",
      "{'Lahore  is the Country': 'Pakistan', 'Population': '10 millions', 'fact': 'ther is mehran university'}\n"
     ]
    }
   ],
   "source": [
    "print(cities[\"karachi\"] )\n",
    "print(cities[\"Hyderabad\"] )\n",
    "print(cities[\"Lahore\"] )"
   ]
  },
  {
   "cell_type": "markdown",
   "metadata": {},
   "source": [
    "# Question3:\n",
    "### A movie theater charges different ticket prices depending on a person’s age. If a person is under the age\n",
    "### of 3, the ticket is free; if they are between 3 and 12, the ticket is SDollar 10: and if they are over age 12, the\n",
    "### ticket is dollar15. Write a loop in which you ask users their age, and then tell them the cost of their movie\n",
    "### ticket."
   ]
  },
  {
   "cell_type": "code",
   "execution_count": 67,
   "metadata": {},
   "outputs": [
    {
     "name": "stdout",
     "output_type": "stream",
     "text": [
      "Tell your Age: 3\n",
      "Your ticket's price is $10\n",
      "Do you want to Continue Press y for Yes & Press any keys for exit: y\n",
      "Tell your Age: 33\n",
      "Your ticket's is $15\n",
      "Do you want to Continue Press y for Yes & Press any keys for exit: y\n",
      "Tell your Age: 33\n",
      "Your ticket's is $15\n",
      "Do you want to Continue Press y for Yes & Press any keys for exit: y\n",
      "Tell your Age: 7\n",
      "Your ticket's price is $10\n",
      "Do you want to Continue Press y for Yes & Press any keys for exit: \n",
      "Program is Terminate\n"
     ]
    }
   ],
   "source": [
    "repeat = 'y'\n",
    "while repeat == 'y':\n",
    "    age = int(input(\"Tell your Age: \"))\n",
    "    if age < 3:\n",
    "        print(\"Your ticket's price is Free\")\n",
    "    elif age >= 3 and age <= 12:\n",
    "        print(\"Your ticket's price is $10\")\n",
    "    elif age > 12:\n",
    "        print(\"Your ticket's is $15\")\n",
    "    else:\n",
    "        print(\"Invalid Input\")\n",
    "    repeat = input(\"Do you want to Continue Press y for Yes & Press any keys for exit: \")\n",
    "    if repeat != 'y':\n",
    "        print(\"Program is Terminate\")"
   ]
  },
  {
   "cell_type": "code",
   "execution_count": null,
   "metadata": {},
   "outputs": [],
   "source": []
  },
  {
   "cell_type": "markdown",
   "metadata": {},
   "source": [
    "# Question 4\n",
    "### Write a function called favorite_book() that accepts one parameter, title. The function should print a\n",
    "### message, such as One of my favorite books is Alice in Wonderland. Call the function, making sure to\n",
    "### include a book title as an argument in the function call."
   ]
  },
  {
   "cell_type": "code",
   "execution_count": 5,
   "metadata": {},
   "outputs": [
    {
     "name": "stdout",
     "output_type": "stream",
     "text": [
      "One of my favorite books is HelloPakistan\n"
     ]
    }
   ],
   "source": [
    "def favorite_book(title):\n",
    "    a=title\n",
    "    print(a)\n",
    "favorite_book(\"One of my favorite books is HelloPakistan\")\n",
    "    "
   ]
  },
  {
   "cell_type": "markdown",
   "metadata": {},
   "source": [
    "# Question5:\n",
    "### Guess the number game\n",
    "### Write a program which randomly generate a number between 1 to 30 and ask the user in input field to\n",
    "### guess the correct number. Give three chances to user guess the number and also give hint to user if\n",
    "### hidden number is greater or smaller than the number he given to input field.\n"
   ]
  },
  {
   "cell_type": "code",
   "execution_count": 6,
   "metadata": {},
   "outputs": [
    {
     "name": "stdout",
     "output_type": "stream",
     "text": [
      "Enter the Guess Number: 2\n",
      "You Guess Lower Number\n",
      "Enter the Guess Number: 2\n",
      "You Guess Lower Number\n",
      "Enter the Guess Number: 3\n",
      "You Guess Lower Number\n",
      "Computer's Guess Number:  26\n"
     ]
    }
   ],
   "source": [
    "import random\n",
    "count = 0\n",
    "while count < 3:\n",
    "    guess = int(input(\"Enter the Guess Number: \"))\n",
    "    count += 1\n",
    "    rand = random.randint(1,30)\n",
    "    if guess == rand:\n",
    "        print(\"You Guess Correct Number\")\n",
    "    elif guess > rand:\n",
    "        print(\"You Guess Higher Number\")\n",
    "    elif guess < rand:\n",
    "        print(\"You Guess Lower Number\")\n",
    "print(\"Computer's Guess Number: \",rand)"
   ]
  },
  {
   "cell_type": "markdown",
   "metadata": {},
   "source": [
    "\n"
   ]
  },
  {
   "cell_type": "code",
   "execution_count": null,
   "metadata": {},
   "outputs": [],
   "source": []
  },
  {
   "cell_type": "code",
   "execution_count": null,
   "metadata": {},
   "outputs": [],
   "source": []
  },
  {
   "cell_type": "code",
   "execution_count": null,
   "metadata": {},
   "outputs": [],
   "source": []
  }
 ],
 "metadata": {
  "kernelspec": {
   "display_name": "Python 3",
   "language": "python",
   "name": "python3"
  }
 },
 "nbformat": 4,
 "nbformat_minor": 2
}
